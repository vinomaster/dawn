{
 "metadata": {
  "name": "",
  "signature": "sha256:401e729c6de18f4f9c8ae5f29f1cb06c5a7c0923b2a50a841989fd75529bdfe4"
 },
 "nbformat": 3,
 "nbformat_minor": 0,
 "worksheets": [
  {
   "cells": [
    {
     "cell_type": "markdown",
     "metadata": {},
     "source": [
      "[ *Research Analysis Navigation Template (rant): A template for performing reproducible research within environments that are compatible with IPython Notebook. It is a sample guide within the [Data Analysis Workflow Navigation repository](https://github.com/vinomaster/dawn).* ]\n",
      "\n",
      "# Project Title\n",
      "\n",
      "## Define the question\n",
      "[ *Provide some background information about the research problem under investigation* ]\n",
      "\n",
      "### Objective\n",
      "[ *What is the purpose of this research endeavor? What are some of the topics to be considered?* ]\n",
      "\n",
      "### Data\n",
      "[ *Use this section to capture specifics about the sample data being used for this research effort.* ]\n",
      "\n",
      "#### Define the ideal data set\n",
      "[ *Describe the ideal data corpus. Provide pertinent comments and references associated with the idea data set and what may be preventing access to it.* ]\n",
      "\n",
      "#### Determine what data you can access\n",
      "[ *Provide specific references to the sample data being used for this research effort. Be specific so that attempts to reproduce your work can be achieved. If appropriate and applicable, include references to documentation and/or code books for understanding the schema and variables in your data set.* ]"
     ]
    },
    {
     "cell_type": "markdown",
     "metadata": {},
     "source": [
      "## Getting Started\n",
      "\n",
      "### Project Setup\n",
      "[ *Your research will be comprised of several file artifacts. Organizing your workarea is imperative to reproducible research.* ]\n",
      "\n",
      "[ *Outline your project workarea folder structure and provide a description of the purpose of all sub-folders.* ]\n",
      "\n",
      "### Environment Setup\n",
      "[ *Provide the inline code necessary for setting up your working environment (i.e: working directory, system options, handling of warning messages, etc).* ]"
     ]
    },
    {
     "cell_type": "code",
     "collapsed": false,
     "input": [
      "# Provide the inline code for setting up your working environment"
     ],
     "language": "python",
     "metadata": {},
     "outputs": [],
     "prompt_number": 9
    },
    {
     "cell_type": "markdown",
     "metadata": {},
     "source": [
      "### Obtain the data\n",
      "[ *Provide the inline code necessary for accessing your sample data.* ]"
     ]
    },
    {
     "cell_type": "code",
     "collapsed": false,
     "input": [
      "# Provide the inline code for accessing your data"
     ],
     "language": "python",
     "metadata": {},
     "outputs": [],
     "prompt_number": 10
    },
    {
     "cell_type": "markdown",
     "metadata": {},
     "source": [
      "### Dependencies\n",
      "[ *Provide the inline code necessary for loading any required libraries and other source files to be included. These are dependencies for your reproducible research code. As such, you should call out these dependencies textually as well as within the inline code.* ]"
     ]
    },
    {
     "cell_type": "markdown",
     "metadata": {},
     "source": [
      "# Tidy Data Check\n",
      "\n",
      "[ *Provide commentary on the compliance of your sample data with respect to Tidy Data requirements: Variables in columns, Observations in rows, Tables holding elements of only one kind, Column names are easy to use and informative, Row names are easy to use and informative, Variable values are internally consistent, Handling of mistakes in the data need, Addition of transformed variables.* ]\n",
      "\n",
      "### Remove noise\n",
      "[ *Provide the inline code necessary for removing missing or dirty data.* ]"
     ]
    },
    {
     "cell_type": "code",
     "collapsed": false,
     "input": [
      "# Add Tidy Data Code"
     ],
     "language": "python",
     "metadata": {},
     "outputs": [],
     "prompt_number": 11
    },
    {
     "cell_type": "markdown",
     "metadata": {},
     "source": [
      "**Observation**: \n",
      "[ *Provide the reasoning behind the existence of the dirty data and any impact it may have to the research. Be sure to include specific details as to the size of the resulting corpus post cleansing as well as the indices of the removed observations.* ]"
     ]
    },
    {
     "cell_type": "markdown",
     "metadata": {},
     "source": [
      "# Extract, Transform and Load (ETL)\n",
      "[ *Provide step-by-step details for any and all data munging tasks necessary for your research. You may return to this section several times during your iterative exploration. Typically, this phase of your research endeavor addresses the transformation of qualitative data into quantitative format for downstream exploration in the analysis pipeline.*]\n",
      "\n",
      "### Transform 1: field1(string) to filed2(numeric)\n",
      "[ *Provide the inline code necessary for this ETL task.* ]"
     ]
    },
    {
     "cell_type": "code",
     "collapsed": false,
     "input": [
      "# Add inline code for ETL task 1"
     ],
     "language": "python",
     "metadata": {},
     "outputs": [],
     "prompt_number": 12
    },
    {
     "cell_type": "markdown",
     "metadata": {},
     "source": [
      "**Action**: \n",
      "[ *Provide a description of the transformation and why it was necessary.* ]\n",
      "\n",
      "### Transform 2: field3(string) to filed4(numeric)\n",
      "[ *Provide the inline code necessary for this ETL task.* ]"
     ]
    },
    {
     "cell_type": "code",
     "collapsed": false,
     "input": [
      "# Add inline code for ETL task 2"
     ],
     "language": "python",
     "metadata": {},
     "outputs": [],
     "prompt_number": 13
    },
    {
     "cell_type": "markdown",
     "metadata": {},
     "source": [
      "**Action**: \n",
      "[ *Provide a description of the transformation and why it was necessary.* ]"
     ]
    },
    {
     "cell_type": "markdown",
     "metadata": {},
     "source": [
      "# Exploratory Data Analysis\n",
      "[ *Use this section to document your iterative exploration tasks. You should include inline code , observations and follow-on actions for each exploratory question. You may also want to capture follow-on questions that may arise from your observations. Keeping track of follow-on questions, will help your research endeavor to be as exhaustive as possible.* ]\n",
      "\n",
      "[ *Find relationships you didn't know about. Exploratory models are good for discovering new connections. They are also useful for defining future studies. Exploratory analyses are usually not the final say. Exploratory analyses alone should not be used for generalizing/predicting.* ]\n",
      "\n",
      "### Question 1\n",
      "[ *Question text* ]\n",
      "\n",
      "[ *Provide the inline code necessary for this question. This code should include analytic task as well as code necessary for plot generation.* ]"
     ]
    },
    {
     "cell_type": "code",
     "collapsed": false,
     "input": [
      "# Provide the inline code here"
     ],
     "language": "python",
     "metadata": {},
     "outputs": [],
     "prompt_number": 14
    },
    {
     "cell_type": "markdown",
     "metadata": {},
     "source": [
      "**Observation**: \n",
      "[ *Describe any findings and insights drawn from any plots.* ]\n",
      "\n",
      "**Action**: \n",
      "[ *Based on current observations, what do you want to do next and why? Are there follow-on questions that you want to capture and address later?* ]\n",
      "\n",
      "### Question 2\n",
      "[ *Question text* ]\n",
      "\n",
      "[ *Provide the inline code necessary for this question. This code should include analytic task as well as code necessary for plot generation.* ]"
     ]
    },
    {
     "cell_type": "code",
     "collapsed": false,
     "input": [
      "# Provide the inline code here"
     ],
     "language": "python",
     "metadata": {},
     "outputs": [],
     "prompt_number": 15
    },
    {
     "cell_type": "markdown",
     "metadata": {},
     "source": [
      "**Observation**: \n",
      "[ *Describe any findings and insights drawn from any plots.* ]\n",
      "\n",
      "**Action**: \n",
      "[ *Based on current observations, what do you want to do next and why? Are there follow-on questions that you want to capture and address later?* ]"
     ]
    },
    {
     "cell_type": "markdown",
     "metadata": {},
     "source": [
      "# Inferential Analysis\n",
      "\n",
      "[ *Use a relatively small sample of data to say something about a bigger population. Inference is commonly the goal of statistical models. Inference involves estimating both the quantity you care about and your uncertainty about your estimate. Inference depends heavily on both the population and the sampling scheme.* ]\n",
      "\n",
      "[ *Provide the inline code necessary for implementing the statistical models that you will use for your interential analysis.* ]"
     ]
    },
    {
     "cell_type": "code",
     "collapsed": false,
     "input": [
      "# Provide the inline code here"
     ],
     "language": "python",
     "metadata": {},
     "outputs": [],
     "prompt_number": 16
    },
    {
     "cell_type": "markdown",
     "metadata": {},
     "source": [
      "**Observation**: \n",
      "[ *Describe any findings and insights drawn from your statistical modeling.* ]\n",
      "\n",
      "**Action**: \n",
      "[ *Based on current observations, what do you want to do next and why? Are there follow-on questions that you want to capture and address later?* ]"
     ]
    },
    {
     "cell_type": "markdown",
     "metadata": {},
     "source": [
      "# Predictive Analysis\n",
      "[ *Can your data be used on some objects to predict values for another object? Be careful, with prediction if A can predict B, that does not mean A causes B. An accurate prediction depends heavily on measuring the right variables. Although there are better and worse prediction models, more data and a simple model works really well.* ]\n",
      "\n",
      "[ *Are there any standard statistical modeling processes that you would like to explore? If so, you will need to capture references for how and when such models should be applied as well as any assumptions you are making.* ]\n",
      "\n",
      "### Find the right data\n",
      "\n",
      "### Define your error rate\n",
      "\n",
      "### Prepare your prediction environment\n",
      "[ *Split data into: Training, Test (optional), Validation* ]\n",
      "\n",
      "### Using Training Set\n",
      "[ *Provide the inline code necessary for implementing the statistical prediction model.* ]"
     ]
    },
    {
     "cell_type": "code",
     "collapsed": false,
     "input": [
      "# Provide the inline code here"
     ],
     "language": "python",
     "metadata": {},
     "outputs": [],
     "prompt_number": 17
    },
    {
     "cell_type": "markdown",
     "metadata": {},
     "source": [
      "**Observation**: \n",
      "[ *Describe any findings and insights drawn from your statistical modeling.* ]\n",
      "\n",
      "**Action**: \n",
      "[ *Based on current observations, what do you want to do next and why? Are there follow-on questions that you want to capture and address later?* ]\n",
      "\n",
      "### Using Test Set (optional)\n",
      "[ *Provide the inline code necessary for iteratively implementing and refining prediction model used on training set against the test set. The benefit here is that we can estimate the validation set accuracy with the test set. The approach is to Use the training set, split it into training/test sets, build a model on the training set, evaluate on the test set, repeat and average the estimated errors.* ]"
     ]
    },
    {
     "cell_type": "code",
     "collapsed": false,
     "input": [
      "# Provide the inline code here"
     ],
     "language": "python",
     "metadata": {},
     "outputs": [],
     "prompt_number": 18
    },
    {
     "cell_type": "markdown",
     "metadata": {},
     "source": [
      "**Observation**: \n",
      "[ *Describe any findings and insights drawn from your statistical modeling.* ]\n",
      "\n",
      "**Action**: \n",
      "[ *Based on current observations, what do you want to do next and why? Are there follow-on questions that you want to capture and address later?* ]\n",
      "\n",
      "### Using Validation Set\n",
      "[ *Provide the inline code necessary for implementing the statistical model used on training set against, apply it just once to the validation set.* ]"
     ]
    },
    {
     "cell_type": "code",
     "collapsed": false,
     "input": [
      "# Provide the inline code here"
     ],
     "language": "python",
     "metadata": {},
     "outputs": [],
     "prompt_number": 19
    },
    {
     "cell_type": "markdown",
     "metadata": {},
     "source": [
      "**Observation**: \n",
      "[ *Describe any findings and insights drawn from your statistical modeling.* ]\n",
      "\n",
      "**Action**: \n",
      "[ *Based on current observations, what do you want to do next and why? Are there follow-on questions that you want to capture and address later?* ]"
     ]
    },
    {
     "cell_type": "markdown",
     "metadata": {},
     "source": [
      "# Interpret results\n",
      "[ *What conclusions can you make? Are they based on inference or estimates or predictions? You should use this area to synthesize your research effort into very crisp bullets and/or short paragraphs that tell a story as well as provide concreate data points (insights) based on your research.* ]\n",
      "\n",
      "# Challenge results\n",
      "[ *What are the limitations of your findings? What assumptions did you make? How could your findings be improved? Are there follow-up research opportunities that derive from your work?* ]\n",
      "\n",
      "# References\n",
      "[ *Use this section to capture and itemize a list of references obtained during your research effort.* ]\n",
      "\n",
      "# Finalize Report\n",
      "[ *Your reproducible research effort will most likely be accompanied by a written report. Use this section to organize your thoughts based on your work so far and establish an outline for your write-up. General topics that should be considered are: Research Methods (Data Collection, Exploratory Analysis, Statistical Modeling, Reproducibility), Results, Conclusions, References.*]"
     ]
    }
   ],
   "metadata": {}
  }
 ]
}