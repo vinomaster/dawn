{
 "metadata": {
  "name": "",
  "signature": "sha256:b455b5717973543e349e97ba7d72ffabca95dd598e21866a31db4c4a0f8642d2"
 },
 "nbformat": 3,
 "nbformat_minor": 0,
 "worksheets": [
  {
   "cells": [
    {
     "cell_type": "markdown",
     "metadata": {},
     "source": [
      "[ *Functional Analysis (fa_guide): A template for performing reproducible research within environments that are compatible with IPython Notebook. It is a sample guide within the [Data Analysis Workflow Navigation repository](https://github.com/vinomaster/dawn).* ]\n",
      "\n",
      "# Functional Analysis Title\n",
      "[ *The intent of this system analysis workflow guide is to help streamline the activities associated with the evaluation of a functional aspect of a software system. The objective is to produce an assessment report based on an investigation into a specific functional aspect of a software system. The approach of the analysis is to model a problem and iterate through possible solution alternatives that will help achieve the functional goals of the system for the subject problem.* ]\n",
      "\n",
      "## Hypothesis\n",
      "[ *Your software system is expected to produce results for a category of problems with some degree of accuracy. Describe the attributes of the current state of the system and how accurate it is with sample data. Describe your  prediction for what it will take to alter the system to gain some incremental percentage of improvement.* ]\n",
      "   \n",
      "## Environment Setup\n",
      "[ *Your analysis may include several external source code libraries, data sets and it may produce several file artifacts. Organizing your workarea is imperative to achieve optimal reproducible results. Use this section to outline the preparation of your analysis environment.* ]\n",
      "\n",
      "### Project Setup\n",
      "[ *Outline your project workarea folder structure and provide a description of the purpose of all sub-folders. Provide the inline code necessary for setting up your working environment (i.e: working directory, system options, handling of warning messages, etc).* ]\n",
      "\n",
      "### Obtain the data\n",
      "[ *Provide the inline code necessary for accessing your sample data.* ]\n",
      "\n",
      "### Handle required files and libraries\n",
      "[ *Provide the inline code necessary for loading any required libraries and other source files to be included. These are dependencies for your reproducible research code. As such, you should call out these dependencies textually as well as within the inline code.* ]\n",
      "   \n",
      "## Analysis Process\n",
      "[ *In order to test your hypothesis you may iterate through the analysis feedback loop process several times. This iterative process may include new information from external influencers (stakeholders) for this analysis. Use this section to describe who will be aiding in the effort, their role and how their input will be communicated and ingested into the analysis (new data sets, emails, other).* ]\n",
      "\n",
      "### Stakeholders\n",
      "[ *Who will be reviewing, observations and helping to make adjustments?* ]\n",
      "\n",
      "### Communications\n",
      "[ *How will adjustments be communicated?* ]\n",
      "\n",
      "## Current Baseline\n",
      "[ *Provide the inline code necessary to model the current state of the system against the sample data.* ]\n",
      "\n",
      "## Feedback Loop\n",
      "[ *This section is the heart of the  functional analysis. You will iterate through as many functional model necessary to validate your hypothesis. Each iteration should be documented as detailed as possible as an independent subsection.* ]\n",
      "\n",
      "### Functional Assessment #1\n",
      "[ *Describe the specifics about this functional modle of the system and how it differs from the baseline. Include the reasoning behing any adjustments being made to the system.* ]\n",
      "\n",
      "#### Run Assessment\n",
      "[ *Provide the inline code necessary to model this functional testcase of the system against the sample data.* ]\n",
      "\n",
      "#### Assessment Observations\n",
      "[ *Describe what you have observed. Make note of deltas in results as compared to baseline and other assessments that have been documented herein.* ]\n",
      "\n",
      "#### Decision Point\n",
      "[ *Are the results observed adequate to validate the hypothesis? If so, stop feedback loop. If not, describe the adjustments that need to be made for the next assessment and any details from conversations with stakeholders, then iterate through the loop again.* ]\n",
      "\n",
      "## Conclusion\n",
      "[ *Summarize your results.* ]\n",
      "\n",
      "### Hypothesis Assessment\n",
      "[ *Revisit your hypothesis and describe the why/why-not your prediction was possible.* ]\n",
      "\n",
      "### Accuracy of Prediction\n",
      "[ *How confident  are you in the results of this functional analysis? Why are you confident?* ]\n",
      "\n",
      "### System Benefits\n",
      "[ *Describe the overall system improvements achieved by this analysis.* ]"
     ]
    }
   ],
   "metadata": {}
  }
 ]
}