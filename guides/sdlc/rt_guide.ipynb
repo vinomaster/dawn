{
 "metadata": {
  "name": "",
  "signature": "sha256:d260c2fb127b37a4d9a503f9d3e2a743613f518be824cc467d68506c6dc957bc"
 },
 "nbformat": 3,
 "nbformat_minor": 0,
 "worksheets": [
  {
   "cells": [
    {
     "cell_type": "markdown",
     "metadata": {},
     "source": [
      "[ *Regression Test  (rt_guide): A template for performing reproducible research within environments that are compatible with IPython Notebook. It is a sample guide within the [Data Analysis Workflow Navigation repository](https://github.com/vinomaster/dawn).* ]\n",
      "\n",
      "\n",
      "# Regression Test  / Process Monitor Title\n",
      "[ *The intent of this system analysis workflow guide is to provide a reusable utility for monitoring and regression testing a specific system process. The objective is to produce reproducible process monitoring code and documentation of the regression analysis.* ]\n",
      "\n",
      "## Process Details\n",
      "[ *Describe the system process to be monitored. What are the key characteristics about this process that need to be monitored? What are the major regression concerns?* ]\n",
      "\n",
      "## Experiment Goal\n",
      "[ *Describe the objective of this test (experiment) against the system? What is the expected or desired result for the system process once this experiment is executed?* ]\n",
      "\n",
      "## Experiment Environment \n",
      "[ *Your analysis may include several external source code libraries, data sets and it may produce several file artifacts. Organizing your workarea is imperative to achieve optimal reproducible results. Use this section to outline the preparation of your analysis environment.* ]\n",
      "\n",
      "### Setup\n",
      "[ *Outline your project workarea folder structure and provide a description of the purpose of all sub-folders. Provide the inline code necessary for setting up your working environment (i.e: working directory, system options, handling of warning messages, etc).* ]\n",
      "\n",
      "### Obtain the data\n",
      "[ *Provide the inline code necessary for accessing your experimental data.* ]\n",
      "\n",
      "### External Experiment Dependencies\n",
      "[ *Provide the inline code necessary for loading any required libraries and other source files to be included. These are dependencies for your reproducible research code. As such, you should call out these dependencies textually as well as within the inline code.* ]\n",
      "\n",
      "## Statistical Model \n",
      "[ *Are there any standard statistical modeling processes that you would like to explore in this experiment? What is the statistical basis for the experiment? What standards will you use to interpret your results? You will need to capture references for how and when such models should be applied as well as any assumptions you are making.* ]\n",
      "\n",
      "[ *Provide the inline code necessary for implementing the statistical model that you will use.* ]\n",
      "\n",
      "## Statistical Results \n",
      "\n",
      "### Assumptions\n",
      "[ *Are there any assumptions that need to be called out relative to this experiment and the analysis being performed?* ]\n",
      "\n",
      "### Code\n",
      "[ *Provide the inline code necessary for applying the statistical model against the specifics of this experiment.* ]\n",
      "\n",
      "### Observations\n",
      "[ *Describe the statistical results.* ]\n",
      "\n",
      "## Interpret Results \n",
      "[ *Are the statistical results inline with our desired result? If not how do they vary and why? Do we consider these results negative and as such a regression in the system process? What adjustments need to be made to they system as a result of this analysis?* ]\n",
      "\n",
      "## System Feedback Process\n",
      "[ *Describe how these results and any suggested adjustments will be injected back into the system for re-assessment.* ]\n"
     ]
    }
   ],
   "metadata": {}
  }
 ]
}