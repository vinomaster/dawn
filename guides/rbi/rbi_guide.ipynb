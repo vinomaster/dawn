{
 "metadata": {
  "name": "",
  "signature": "sha256:8460ad66f1a65b3d6df4bbad3a21743a31b4a771dceb22b587a8ee5b6f03393d"
 },
 "nbformat": 3,
 "nbformat_minor": 0,
 "worksheets": [
  {
   "cells": [
    {
     "cell_type": "markdown",
     "metadata": {},
     "source": [
      "[ *Rapid Business Insights (rbi_guide): A template for performing reproducible research within environments that are compatible with IPython Notebook. It is a sample guide within the [Data Analysis Workflow Navigation repository](https://github.com/vinomaster/dawn).* ]\n",
      "\n",
      "# Title\n",
      "[ *The intent of this data analysis workflow guide is to help streamline the activities associated with a situational investigation project. It attempts to  consolidate details from process steps such as data extraction, transformation, analysis and the generation of interactive visualizations. The ultimate objective is the creation of a business proposal based on actionable insights.* ]\n",
      "\n",
      "## Business Environment\n",
      "\n",
      "### Business Situational\n",
      "[ *Describe the attributes of the current state of the business. Keep the business state relative to the scope of the problem (departmental, organizational, customer, etc)* ]\n",
      "\n",
      "### Problem Statement\n",
      "[ *Provide some background information about the situational problem to be  investigated. Try to consolidate problem(s) down to a few (no more than 3) crisp problem statements.* ]\n",
      "\n",
      "### Solution Sponsor\n",
      "[ *Someone needs to be the catcher of the proposal and responsible for executing on the business decision. Without such a stakeholder, the investigation results are meaningless as they will die on the investigators desk. Identify the person responsible for taking action and document whether they have committed to support the effort. You must establish buy-in!* ]\n",
      "\n",
      "### Objective\n",
      "[ *What is the purpose of this situational information problem?*  ]\n",
      "\n",
      "### Risk Assessment \n",
      "[ *What is at risk if this problem is not addressed in a timely manner? What are the business impacts?* ]\n",
      "\n",
      "### Assumptions\n",
      "[ *What assumptions needs to be identified about the business environment, the problem domain and/or proposed solutions?* ]\n",
      "\n",
      "### Solution Constraints\n",
      "[ *What constraints does the business impose on any proposed solution? Is there a time constraint for a solution? If so, how does that constraint impact solution value?* ]\n",
      "\n",
      "### Other Decision Influencers\n",
      "[ *Business decisions must take into account more than raw data. We must recognize that data sometimes obscures business values. Data is rarely in a raw form, it is always structured according to somebody\u2019s predispositions and values. Choices are made along the way that influence the data from construction to interpretation. Yet there are always things to consider as influencers that are not derived from the data, such as business values. Use this section to account for any external influencers that may trump or alter insights found in the data and may thereby impact a proposed decision.* ]\n",
      "\n",
      "### Estimates or Predictions\n",
      "[ *If there are any predetermined conclusions that may drive the nature of this investigation, please identify them upfront.* ]\n",
      "\n",
      "## Situational Information\n",
      "[ *Describe the situational attributes of the data corpus. Howe large is t? How broad in scope (internal, external, unstructured, structured)? Is it a mix of static and real-time information where the spectrum of real-time frequency varies (infrequent to mili-sec)?* ]\n",
      "\n",
      "### Data\n",
      "[ *Use this section to capture specifics about the sample data being used for this investigation.* ]\n",
      "\n",
      "#### Define the ideal data set\n",
      "[ *Describe the ideal data corpus. Provide pertinent comments and references associated with the idea data set and what may be preventing access to it. How will a lack of access to the idea information impact a solution proposal?* ]\n",
      "\n",
      "#### Determine what data you can access\n",
      "[ *Provide specific references to the sample data being used for this investigation. Be specific so that attempts to reproduce your work can be achieved. If appropriate and applicable, include references to documentation and/or code books for understanding the schema and variables in your data sets.* ]\n",
      "\n",
      "## Getting Started\n",
      "\n",
      "### Project Setup\n",
      "[ *Your situational investigation will be comprised of several file artifacts. Organizing your workarea is imperative for reproducible research.* ]\n",
      "\n",
      "[ *Outline your project workarea folder structure and provide a description of the purpose of all sub-folders.* ]\n",
      "\n",
      "### Environment Setup\n",
      "[ *Provide the inline code necessary for setting up your working environment (i.e: working directory, system options, handling of warning messages, etc).* ]\n",
      "\n",
      "### Obtain the data\n",
      "[ *Provide the inline code necessary for accessing your sample data.* ]"
     ]
    },
    {
     "cell_type": "code",
     "collapsed": false,
     "input": [
      "# Place inline code here"
     ],
     "language": "python",
     "metadata": {},
     "outputs": [],
     "prompt_number": 1
    },
    {
     "cell_type": "markdown",
     "metadata": {},
     "source": [
      "### Handle required files and libraries\n",
      "[ *Provide the inline code necessary for loading any required libraries and other source files to be included. These are dependencies for your reproducible research code. As such, you should call out these dependencies textually as well as within the inline code.* ]\n",
      "\n",
      "### Reproducibility\n",
      "[ *Describe how this investigation effort will be packaged for reproducibility. For business audit reasons and historical understanding, any decisions based on the analysis herein should be reproducible.* ]\n",
      "\n",
      "## Tidy Data Check\n",
      "[ *Provide commentary on the compliance of your sample data with respect to Tidy Data requirements: Variables in columns, Observations in rows, Tables holding elements of only one kind, Column names are easy to use and informative, Row names are easy to use and informative, Variable values are internally consistent, Handling of mistakes in the data need, Addition of transformed variables.* ]\n",
      "\n",
      "### Remove noise\n",
      "[ *Provide the inline code necessary for removing missing or dirty data.* ]"
     ]
    },
    {
     "cell_type": "code",
     "collapsed": false,
     "input": [
      "# Place inline code here"
     ],
     "language": "python",
     "metadata": {},
     "outputs": [],
     "prompt_number": 2
    },
    {
     "cell_type": "markdown",
     "metadata": {},
     "source": [
      "**Observation**: \n",
      "[ *Provide the reasoning behind the existence of the dirty data and any impact it may have to the research. Be sure to include specific details as to the size of the resulting corpus post cleansing as well as the indices of the removed observations.* ]\n",
      "\n",
      "## Extract, Transform and Load (ETL)\n",
      "[ *Provide step-by-step details for any and all data munging tasks necessary for your research. You may return to this section several times during your iterative exploration. Typically, this phase of your investigation will address the transformation of qualitative data into quantitative format for downstream exploration in the analysis pipeline.*]\n",
      "\n",
      "### Transform 1: field1(string) to filed2(numeric)\n",
      "[ *Provide the inline code necessary for this ETL task.* ]"
     ]
    },
    {
     "cell_type": "code",
     "collapsed": false,
     "input": [
      "# Place inline code here"
     ],
     "language": "python",
     "metadata": {},
     "outputs": [],
     "prompt_number": 3
    },
    {
     "cell_type": "markdown",
     "metadata": {},
     "source": [
      "**Action**: \n",
      "[ *Provide a description of the transformation and why it was necessary.* ]\n",
      "\n",
      "### Transform 2: field3(string) to filed4(numeric)\n",
      "[ *Provide the inline code necessary for this ETL task.* ]"
     ]
    },
    {
     "cell_type": "code",
     "collapsed": false,
     "input": [
      "# Place inline code here"
     ],
     "language": "python",
     "metadata": {},
     "outputs": [],
     "prompt_number": 4
    },
    {
     "cell_type": "markdown",
     "metadata": {},
     "source": [
      "**Action**: \n",
      "[ *Provide a description of the transformation and why it was necessary.* ]\n",
      "\n",
      "## Exploratory Data Analysis\n",
      "[ *Use this section to document your iterative exploration tasks. You should include inline code , observations and follow-on actions for each exploratory question. You may also want to capture follow-on questions that may arise from your observations. Keeping track of follow-on questions, will help your research endeavor to be as exhaustive as possible.* ]\n",
      "\n",
      "[ *Remember, situational problems typically share the characteristic that stakeholders \"do not know what they do not know!\" In other words, the questions that need to be asked may not be known upfront. The iterative exploration process may yield a list of more questions before it yields any insightful golden nuggets.  As such, followup questions should be captured as they are part of the iterative process.* ]\n",
      "\n",
      "### Question 1\n",
      "[ *Question text* ]\n",
      "\n",
      "[ *Provide the inline code necessary for this question. This code should include analytic task as well as code necessary for plot generation.* ]"
     ]
    },
    {
     "cell_type": "code",
     "collapsed": false,
     "input": [
      "# Place inline code here"
     ],
     "language": "python",
     "metadata": {},
     "outputs": [],
     "prompt_number": 5
    },
    {
     "cell_type": "markdown",
     "metadata": {},
     "source": [
      "**Observation**: \n",
      "[ *Describe any findings and insights drawn from any plots.* ]\n",
      "\n",
      "**Action**: \n",
      "[ *Based on current observations, what do you want to do next and why? Are there follow-on questions that you want to capture and address later?* ]\n",
      "\n",
      "### Question 2\n",
      "[ *Question text* ]\n",
      "\n",
      "[ *Provide the inline code necessary for this question. This code should include analytic task as well as code necessary for plot generation.* ]"
     ]
    },
    {
     "cell_type": "code",
     "collapsed": false,
     "input": [
      "# Place inline code here"
     ],
     "language": "python",
     "metadata": {},
     "outputs": [],
     "prompt_number": 6
    },
    {
     "cell_type": "markdown",
     "metadata": {},
     "source": [
      "**Observation**: \n",
      "[ *Describe any findings and insights drawn from any plots.* ]\n",
      "\n",
      "**Action**: \n",
      "[ *Based on current observations, what do you want to do next and why? Are there follow-on questions that you want to capture and address later?* ]\n",
      "\n",
      "## Statistical prediction/modeling\n",
      "[ *Are there any standard statistical modeling processes that you would like to explore? If so, you will need to capture references for how and when such models should be applied as well as any assumptions you are making.* ]\n",
      "\n",
      "[ *Provide the inline code necessary for process modeling that you undertake.* ]"
     ]
    },
    {
     "cell_type": "code",
     "collapsed": false,
     "input": [
      "# Place inline code here"
     ],
     "language": "python",
     "metadata": {},
     "outputs": [],
     "prompt_number": 7
    },
    {
     "cell_type": "markdown",
     "metadata": {},
     "source": [
      "**Observation**: \n",
      "[ *Describe any findings and insights drawn from your statistical modeling.* ]\n",
      "\n",
      "**Action**: \n",
      "[ *Based on current observations, what do you want to do next and why? Are there follow-on questions that you want to capture and address later?* ]\n",
      "\n",
      "## Interpret results\n",
      "[ *What conclusions can you make? Are they based on inference or estimates or predictions? You should use this area to synthesize your research effort into very crisp bullets and/or short paragraphs that tell a story as well as provide concreate data points (insights) based on your research. Can we make any inference as to the cause of the problem? How confident are we about such an inference and what statistical information do we have to justify that confidence?* ]\n",
      "\n",
      "## Challenge results\n",
      "[ *What are the limitations of your findings? What assumptions did you make? How could your findings be improved? Are there follow-up research opportunities that derive from your work?* ]\n",
      "\n",
      "## References\n",
      "[ *Use this section to capture and itemize a list of references obtained during your research effort. This should include internal as well as external resources that contribute to the research.* ]\n",
      "\n",
      "## Solution Options\n",
      "[ *Use this section to enumerate as many solution options as necessary.* ]\n",
      "\n",
      "### Alternative 1\n",
      "\n",
      "#### Name: \n",
      "[ *Give this solution alternative an name so that it can be properly during decision process.* ]\n",
      "\n",
      "#### Description\n",
      "[ *Provide a concise description of this solution option.* ]\n",
      "\n",
      "#### Correlation of Results\n",
      "[ *Link this solution option top the findings of the investigation.* ]\n",
      "\n",
      "#### Benefits\n",
      "[ *What are the business benefits associated with this solution option (such as ROI).* ]\n",
      "\n",
      "#### Actions\n",
      "[ *What are the required actions that need to be taken along with time constraints for each in order to execute on this solution option.* ]\n",
      "\n",
      "#### Issues/Concerns\n",
      "[ *Are there any issues or concerns that need to be raised about this solution option.* ]\n",
      "\n",
      "#### Dependencies\n",
      "[ *Are there any dependencies associated with this solution option.* ]\n",
      "\n",
      "## Proposed Decision\n",
      "\n",
      "#### Problem\n",
      "[ *What is the problem this proposal is addressing?* ]\n",
      "\n",
      "#### Solution Description\n",
      "[ *Provide a concise description of the proposed solution.* ]\n",
      "\n",
      "#### Business Justification\n",
      "[ *Provide the reasoning behind why this solution option was chosen.* ]\n",
      "\n",
      "#### Benefits\n",
      "[ *What are the business benefits associated with the proposal (such as ROI).* ]\n",
      "\n",
      "#### Actions\n",
      "[ *What are the required actions that need to be taken along with time constraints for each in order to execute on the proposal.* ]\n",
      "\n",
      "#### Issues/Concerns\n",
      "[ *Are there any issues or concerns that need to be raised about the proposal.* ]\n",
      "\n",
      "#### Dependencies\n",
      "[ *Are there any dependencies associated with the proposal.* ]"
     ]
    }
   ],
   "metadata": {}
  }
 ]
}